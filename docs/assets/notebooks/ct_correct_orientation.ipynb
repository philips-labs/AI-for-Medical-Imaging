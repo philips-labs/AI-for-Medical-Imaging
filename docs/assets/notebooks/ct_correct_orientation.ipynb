{
 "cells": [
  {
   "cell_type": "markdown",
   "metadata": {},
   "source": [
    "This notebook provides an example code for the orientation correction step.\n",
    "\n",
    "**Important Note:**  It's recommended to refer to the [Getting Oriented using the Image Plane Module](http://dicomiseasy.blogspot.com/2013/06/getting-oriented-using-image-plane.html) article along with the notebook reading.\n",
    "\n",
    "The example code uses one image from the [TCIA ACRIN 6664 (CT COLONOGRAPHY) Dataset](https://wiki.cancerimagingarchive.net/pages/viewpage.action?pageId=3539213).\n",
    "\n",
    "*Data Citation:*\n",
    "Smith K, Clark K, Bennett W, Nolan T, Kirby J, Wolfsberger M, Moulton J, Vendt B, Freymann J. (2015). Data From CT_COLONOGRAPHY. The Cancer Imaging Archive. https://doi.org/10.7937/K9/TCIA.2015.NWTESAY1\n",
    "\n",
    "*Publication Citation:*\n",
    "Johnson, C. D., Chen, M.-H., Toledano, A. Y., Heiken, J. P., Dachman, A., Kuo, M. D., … Limburg, P. J. (2008, September 18). Accuracy of CT Colonography for Detection of Large Adenomas and Cancers. New England Journal of Medicine. New England Journal of Medicine (NEJM/MMS). https://doi.org/10.1056/nejmoa0800996\n",
    "\n",
    "*TCIA Citation:*\n",
    "Clark K, Vendt B, Smith K, Freymann J, Kirby J, Koppel P, Moore S, Phillips S, Maffitt D, Pringle M, Tarbox L, Prior F. The Cancer Imaging Archive (TCIA): Maintaining and Operating a Public Information Repository, Journal of Digital Imaging, Volume 26, Number 6, December, 2013, pp 1045-1057. https://doi.org/10.1007/s10278-013-9622-7"
   ]
  },
  {
   "cell_type": "code",
   "execution_count": null,
   "metadata": {},
   "outputs": [],
   "source": [
    "import numpy as np\n",
    "import pydicom\n",
    "\n",
    "import matplotlib.pyplot as plt"
   ]
  },
  {
   "cell_type": "markdown",
   "metadata": {},
   "source": [
    "You can see the Feet First Decubitus Right image below and its corresponding tags.\n",
    "The orientation-description letters for the image should be located like this:  \n",
    "&nbsp;&nbsp;&nbsp;&nbsp;R  \n",
    "A&nbsp;&nbsp;&nbsp;&nbsp;&nbsp;&nbsp;P  \n",
    "&nbsp;&nbsp;&nbsp;&nbsp;L  \n",
    "If you open this DICOM file in a viewer you'll see exactly the same image and orientation-description letters."
   ]
  },
  {
   "cell_type": "code",
   "execution_count": null,
   "metadata": {},
   "outputs": [],
   "source": [
    "filepath = './test_files/ct_example.dcm'\n",
    "dataset= pydicom.dcmread(filepath)\n",
    "img = dataset.pixel_array\n",
    "img = pydicom.pixel_data_handlers.apply_modality_lut(img, dataset)\n",
    "print('Image Orientation Patient:', dataset.get('ImageOrientationPatient'))\n",
    "print('Patient Position:', dataset.get('PatientPosition'))\n",
    "plt.imshow(img, cmap='gray')\n",
    "plt.show()"
   ]
  },
  {
   "cell_type": "markdown",
   "metadata": {},
   "source": [
    "Now let's correct the image according to the Image Orientation Patient tag.  \n",
    "\n",
    "Firstly, we should make the Image Orientation Patient row and column vectors to be a right-handed pair. Otherwise, all the transforms would be incorrect.\n",
    "To do so, we need to calculate a cross-product of the two vectors and check if the Z-value of the result is positive or negative.\n",
    "A positive value means the pair is right-handed, negative &ndash; left-handed.\n",
    "If the pair is left-handed, one of the vectors should be inverted (and the image should be mirrored accordingly).  \n",
    "\n",
    "Then, we need to align the RCS (Reference Coordinate System) axis with the image axis to be parallel (but not necessary in the same direction, yet).\n",
    "In this case, we should rotate the image once by 90&deg;\n",
    "\n",
    "Lastly, we should align the directions of the axis. Mirror the image across the right direction if needed.  \n",
    "\n",
    "\n",
    "The function below does all required checks and transformations. Also, it makes prints and visualizations of every step for clarity."
   ]
  },
  {
   "cell_type": "code",
   "execution_count": null,
   "metadata": {},
   "outputs": [],
   "source": [
    "def correct_iop(img: np.ndarray, ds: pydicom.dataset.FileDataset, filepath: str) -> np.ndarray:\n",
    "    \"\"\"\n",
    "    Transforms slice according to Image Orientation Patient (0020,0032) tag:\n",
    "    https://dicom.innolitics.com/ciods/ct-image/image-plane/00200037\n",
    "\n",
    "    :param img: An input image to transform;\n",
    "    :param ds: A pydicom dataset containing metadata;\n",
    "    :param filepath: A path to the file, required by _logger to return meaningful message;\n",
    "    :return: Corrected image as a numpy array.\n",
    "    \"\"\"\n",
    "    iop = [float(x) for x in ds.get('ImageOrientationPatient')]\n",
    "    if len(set([float(_) for _ in iop]).difference(set([0., 1., -1.]))) > 0:\n",
    "        _logger.warning('File %s header contains transformations that can not be applied,\\\n",
    "                         skipping orientation correction step.', filepath)\n",
    "        return img\n",
    "    \n",
    "    iop_row = np.asarray(iop[:3])\n",
    "    iop_col = np.asarray(iop[3:])\n",
    "    print('Input:', iop_row, iop_col)\n",
    "    plt.imshow(img, cmap='gray')\n",
    "    plt.show()\n",
    "    \n",
    "    def is_right_handed(a, b):\n",
    "        # cross product\n",
    "        # x = a[1] * b[2] - a[2] * b[1]\n",
    "        # y = a[2] * b[0] - a[0] * b[2]\n",
    "        z = a[0] * b[1] - a[1] * b[0]\n",
    "        if z < 0:\n",
    "            return False\n",
    "        return True\n",
    "    \n",
    "    # Make right-handed pair of vectors\n",
    "    if not is_right_handed(iop_row, iop_col):  # if left-handed, flip horizontally \n",
    "        iop_row *= -1\n",
    "        img = np.flip(img, 1)\n",
    "    print('Make right-handed:', iop_row, iop_col)\n",
    "    plt.imshow(img, cmap='gray')\n",
    "    plt.show()\n",
    "    \n",
    "    # Rotate to align axis\n",
    "    rot90_mtx = [[0, -1, 0], [1, 0, 0], [0, 0, 1]]\n",
    "    if iop_row[0] == 0:\n",
    "        img = np.rot90(img)\n",
    "        iop_row = np.matmul(rot90_mtx, iop_row)\n",
    "        iop_col = np.matmul(rot90_mtx, iop_col)\n",
    "    print('Rotate:', iop_row, iop_col)\n",
    "    plt.imshow(img, cmap='gray')\n",
    "    plt.show()    \n",
    "    \n",
    "    # Mirror to align directions\n",
    "    if iop_row[0] == -1:\n",
    "        iop_row *= -1\n",
    "        img = np.flip(img, 1)\n",
    "    if iop_col[1] == -1:\n",
    "        iop_col *= -1\n",
    "        img = np.flip(img, 0)\n",
    "    print('Mirror:', iop_row, iop_col)\n",
    "    plt.imshow(img, cmap='gray')\n",
    "    plt.show()\n",
    "\n",
    "    return img"
   ]
  },
  {
   "cell_type": "code",
   "execution_count": null,
   "metadata": {},
   "outputs": [],
   "source": [
    "img = correct_iop(img, dataset, filepath)"
   ]
  },
  {
   "cell_type": "markdown",
   "metadata": {},
   "source": [
    "Now, let's rotate the image to be oriented according to gravity (when scanner table is at the bottom of the image)."
   ]
  },
  {
   "cell_type": "code",
   "execution_count": null,
   "metadata": {},
   "outputs": [],
   "source": [
    "def correct_pp(img: np.ndarray, ds: pydicom.dataset.FileDataset, filepath: str) -> np.ndarray:\n",
    "    \"\"\"\n",
    "    Transforms slice according to Patient Position (0018,5100) tag:\n",
    "    https://dicom.innolitics.com/ciods/ct-image/general-series/00185100\n",
    "\n",
    "    :param img: An input image to transform;\n",
    "    :param ds: A pydicom dataset containing metadata;\n",
    "    :param filepath: A path to the file, required by _logger to return meaningful message;\n",
    "    :return: Corrected image as a numpy array.\n",
    "    \"\"\"\n",
    "    pp = ds.get('PatientPosition')\n",
    "    if pp not in ['HFS', 'HFP', 'HFDR', 'DFDL', 'FFS', 'FFP', 'FFDR', 'FFDL']:\n",
    "        _logger.warning('Unknown PatientPosition found: %s in file %s. Skipping rotation according to gravity', str(pp), filepath)\n",
    "        return img\n",
    "    if pp.endswith('S'):  # supine (HFS, FFS)\n",
    "        return img\n",
    "    if pp.endswith('P'):  # prone (HFP, FFP)\n",
    "        return np.rot90(img, k=2)\n",
    "    if pp.endswith('DR'):  # decubitus right (HFDR, FFDR)\n",
    "        return np.rot90(img, k=1)\n",
    "    if pp.endswith('DL'):  # decubitus left (HFDL, FFDL)\n",
    "        return np.rot90(img, k=3)"
   ]
  },
  {
   "cell_type": "code",
   "execution_count": null,
   "metadata": {},
   "outputs": [],
   "source": [
    "img = correct_pp(img, dataset, filepath)\n",
    "plt.imshow(img, cmap='gray')\n",
    "plt.show()"
   ]
  }
 ],
 "metadata": {
  "kernelspec": {
   "display_name": "Python 3 (ipykernel)",
   "language": "python",
   "name": "python3"
  },
  "language_info": {
   "codemirror_mode": {
    "name": "ipython",
    "version": 3
   },
   "file_extension": ".py",
   "mimetype": "text/x-python",
   "name": "python",
   "nbconvert_exporter": "python",
   "pygments_lexer": "ipython3",
   "version": "3.10.12"
  }
 },
 "nbformat": 4,
 "nbformat_minor": 4
}
